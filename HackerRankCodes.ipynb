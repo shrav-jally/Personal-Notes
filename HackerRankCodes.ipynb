{
  "nbformat": 4,
  "nbformat_minor": 0,
  "metadata": {
    "colab": {
      "provenance": [],
      "include_colab_link": true
    },
    "kernelspec": {
      "name": "python3",
      "display_name": "Python 3"
    },
    "language_info": {
      "name": "python"
    }
  },
  "cells": [
    {
      "cell_type": "markdown",
      "metadata": {
        "id": "view-in-github",
        "colab_type": "text"
      },
      "source": [
        "<a href=\"https://colab.research.google.com/github/shrav-jally/Personal-Notes/blob/main/HackerRankCodes.ipynb\" target=\"_parent\"><img src=\"https://colab.research.google.com/assets/colab-badge.svg\" alt=\"Open In Colab\"/></a>"
      ]
    },
    {
      "cell_type": "code",
      "source": [
        "#we use python 3 btw"
      ],
      "metadata": {
        "id": "AaIZtTvyb5fD"
      },
      "execution_count": null,
      "outputs": []
    },
    {
      "cell_type": "code",
      "execution_count": null,
      "metadata": {
        "colab": {
          "base_uri": "https://localhost:8080/"
        },
        "id": "onbVBDDZYbc8",
        "outputId": "cfbf450a-8bd9-4004-d518-049f3db46ab3"
      },
      "outputs": [
        {
          "output_type": "stream",
          "name": "stdout",
          "text": [
            "Hello, World!\n"
          ]
        }
      ],
      "source": [
        "#this is a basic print function, you can also store the string as a variable and print it out directly\n",
        "\n",
        "print(\"Hello, World!\")"
      ]
    },
    {
      "cell_type": "code",
      "source": [
        "\"\"\"The provided code stub reads two integers from STDIN, a and b. Add code to print three lines where:\n",
        "The first line contains the sum of the two numbers.\n",
        "The second line contains the difference of the two numbers (first - second).\n",
        "The third line contains the product of the two numbers.\"\"\"\n",
        "\n",
        "a=int(input(\"Enter\"))\n",
        "b=int(input(\"Enter\"))\n",
        "print(a+b)\n",
        "print(a-b)\n",
        "print(a*b)\n",
        "\n",
        "#using \"\\n\", gives a space in the next line, (which is at most times unnecessary. . .), but look here.\n",
        "print(\"give\\nniggas\\nspace\")"
      ],
      "metadata": {
        "id": "JAC78ytalhWX",
        "colab": {
          "base_uri": "https://localhost:8080/"
        },
        "outputId": "4fac8cd4-5a9b-4a8a-9148-ae300a4968d8"
      },
      "execution_count": null,
      "outputs": [
        {
          "output_type": "stream",
          "name": "stdout",
          "text": [
            "Enter5\n",
            "Enter1\n",
            "6\n",
            "4\n",
            "5\n",
            "give\n",
            "niggas\n",
            "space\n"
          ]
        }
      ]
    },
    {
      "cell_type": "code",
      "source": [
        "'''The provided code stub reads two integers, a and b, from STDIN.\n",
        "Add logic to print two lines. The first line should contain the result of integer division,  a//b.\n",
        "The second line should contain the result of float division, a / b.\n",
        "No rounding or formatting is necessary.'''\n",
        "\n",
        "a = int(input())\n",
        "b = int(input())\n",
        "print(a//b)     #this is division and returning the integer value of it\n",
        "print(a/b)     #this is actual division"
      ],
      "metadata": {
        "id": "SU_tGGo4oTsi",
        "colab": {
          "base_uri": "https://localhost:8080/"
        },
        "outputId": "b6215cdb-ac25-44f1-8e37-7a5a092c8f58"
      },
      "execution_count": null,
      "outputs": [
        {
          "output_type": "stream",
          "name": "stdout",
          "text": [
            "7\n",
            "-3\n",
            "-3\n",
            "-2.3333333333333335\n"
          ]
        }
      ]
    },
    {
      "cell_type": "code",
      "source": [
        "'''The provided code stub reads and integer, n, from STDIN. For all non-negative integers i<n, print i^2.'''\n",
        "\n",
        "n = int(input())\n",
        "for i in range(0,n):\n",
        "    print(i**2)"
      ],
      "metadata": {
        "colab": {
          "base_uri": "https://localhost:8080/"
        },
        "id": "DqwMly92oKrS",
        "outputId": "8823043d-6a66-4f09-8ce8-f40c4c1e8797"
      },
      "execution_count": null,
      "outputs": [
        {
          "output_type": "stream",
          "name": "stdout",
          "text": [
            "8\n",
            "0\n",
            "1\n",
            "4\n",
            "9\n",
            "16\n",
            "25\n",
            "36\n",
            "49\n"
          ]
        }
      ]
    },
    {
      "cell_type": "code",
      "source": [
        "'''An extra day is added to the calendar almost every four years as February 29, and the day is called a leap day.\n",
        "It corrects the calendar for the fact that our planet takes approximately 365.25 days to orbit the sun.\n",
        "A leap year contains a leap day.\n",
        "In the Gregorian calendar, three conditions are used to identify leap years:\n",
        "The year can be evenly divided by 4, is a leap year, unless:\n",
        "The year can be evenly divided by 100, it is NOT a leap year, unless:\n",
        "The year is also evenly divisible by 400. Then it is a leap year.\n",
        "This means that in the Gregorian calendar, the years 2000 and 2400 are leap years, while 1800, 1900, 2100, 2200, 2300 and 2500 are NOT leap years.\n",
        "Source Task\n",
        "Given a year, determine whether it is a leap year. If it is a leap year, return the Boolean True, otherwise return False.\n",
        "Note that the code stub provided reads from STDIN and passes arguments to the is_leap function.\n",
        "It is only necessary to complete the is_leap function.'''\n",
        "\n",
        "def is_leap(year):\n",
        "    leap = False\n",
        "    if (year % 400 == 0) and (year % 100 == 0):\n",
        "        leap = True\n",
        "    elif (year % 4 ==0) and (year % 100 != 0):\n",
        "        leap = True\n",
        "    else:\n",
        "        pass\n",
        "    return leap\n",
        "year = int(input())\n",
        "print(is_leap(year))"
      ],
      "metadata": {
        "colab": {
          "base_uri": "https://localhost:8080/"
        },
        "id": "ML7Umigko-uN",
        "outputId": "d7aa7a92-8ed1-4ce0-8ed3-b523583463f2"
      },
      "execution_count": null,
      "outputs": [
        {
          "output_type": "stream",
          "name": "stdout",
          "text": [
            "1900\n",
            "False\n"
          ]
        }
      ]
    },
    {
      "cell_type": "code",
      "source": [
        "'''The included code stub will read an integer, n, from STDIN.\n",
        "Without using any string methods, try to print the following: 123...n'''\n",
        "\n",
        "n = int(input())\n",
        "for i in range(1,n+1): #range syntax is range(start, stop, step) and it works w 1,2,3 parameters (stop doesn't return lol)\n",
        "  print(i, end=\"\")"
      ],
      "metadata": {
        "colab": {
          "base_uri": "https://localhost:8080/"
        },
        "id": "LJpoPR7zslnM",
        "outputId": "4ce0fd5c-ae67-4c2f-b735-c568712dd4bc"
      },
      "execution_count": null,
      "outputs": [
        {
          "output_type": "stream",
          "name": "stdout",
          "text": [
            "16\n",
            "12345678910111213141516"
          ]
        }
      ]
    },
    {
      "cell_type": "code",
      "source": [
        "\"\"\"Given the participants' score sheet for your University Sports Day, you are required to find the runner-up score.\n",
        "You are given n scores. Store them in a list and find the score of the runner-up.\"\"\"\n",
        "\n",
        "'''A little bit about arrays: \"array(data_type, value_list)\"-syntax\n",
        "\"import array as arr\" is what you need to get to use the array module\n",
        "a = arr.array('i', [1, 2, 3])-one way to create an array\n",
        "a.insert(1,4)-inserts 4 at index 1\n",
        "a.append(4)-appends 4 at the end of array\n",
        "a[0]-accesing element at index 0 in array\n",
        "a.pop()-nothing in bracket tho last value popped and returned, if req, index of poppalsina element to be specified\n",
        "a.remove()-specify element from array to be removed and if it occurs more than once, only the first occurance is omitted'''\n",
        "\n",
        "n = int(input())   #doesn't really matter but, hacker rank output lo ila ne kavali\n",
        "arr = map(int, input().split())\n",
        "print(sorted(list(arr))[-2])"
      ],
      "metadata": {
        "id": "Q15Rn2A_s3Ms",
        "colab": {
          "base_uri": "https://localhost:8080/"
        },
        "outputId": "34099d24-469a-4b94-dffe-3f4a522ecd1a"
      },
      "execution_count": null,
      "outputs": [
        {
          "output_type": "stream",
          "name": "stdout",
          "text": [
            "3\n",
            "12 23 34\n",
            "23\n"
          ]
        }
      ]
    },
    {
      "cell_type": "code",
      "source": [
        "'''Given the names and grades for each student in a class of N students, store them in a nested list and print the name(s) of any student(s) having the\n",
        "second lowest grade. Note: If there are multiple students with the second lowest grade, order their names alphabetically and print each name on a new line'''\n",
        "\n",
        "n=int(input())\n",
        "data=[]\n",
        "for i in range(n):\n",
        "    s=[]\n",
        "    for j in range(1):\n",
        "        x=input()\n",
        "        y=float(input())\n",
        "        s.append(x)\n",
        "        s.append(y)\n",
        "    data.append(s)\n",
        "b=sorted(data)[1][1]\n",
        "for a,c in sorted(data):\n",
        "    if c==b:\n",
        "        print(a)"
      ],
      "metadata": {
        "colab": {
          "base_uri": "https://localhost:8080/"
        },
        "id": "Eyd9YC9J01Rn",
        "outputId": "6077cc09-a7dd-47bf-bb0b-9f6c4f61d572"
      },
      "execution_count": 13,
      "outputs": [
        {
          "output_type": "stream",
          "name": "stdout",
          "text": [
            "5\n",
            "harry\n",
            "50\n",
            "jerry\n",
            "90\n",
            "ahmed\n",
            "69\n",
            "loll\n",
            "12\n",
            "amazing zing zing\n",
            "45\n",
            "amazing zing zing\n"
          ]
        }
      ]
    },
    {
      "cell_type": "code",
      "source": [
        "'''The provided code stub will read in a dictionary containing key/value pairs of name:[marks] for a list of students.\n",
        "Print the average of the marks array for the student name provided, showing 2 places after the decimal.'''\n",
        "\n",
        "\"\"\"the unpacking operator(one of the core but ignored functions)(* for tuples)(** for dictionaries)\n",
        "args = [0, 1, 4]\n",
        "def func(a, b, c):\n",
        "    return a + b + c\n",
        "func(*args)\n",
        ">>>5\n",
        "\n",
        "def fun(a, b, c, d):\n",
        "    print(a, b, c, d)\n",
        "my_list = [1, 2, 3, 4]\n",
        "fun(*my_list)\n",
        ">>>(1, 2, 3, 4) #this output wouldn't be possible if it weren't for the *opertor in the function call statement\n",
        "\n",
        "range(3, 6)  # normal call with separate arguments\n",
        ">>>[3, 4, 5]\n",
        "args = [3, 6]\n",
        "range(*args)  # call with arguments unpacked from a list\n",
        ">>>[3, 4, 5]\n",
        "\n",
        "def mySum(*args):          #this is called the packing operator (here used to calculate sum of unknown number of numbers)\n",
        "    return sum(args)\n",
        "print(mySum(1, 2, 3, 4, 5))\n",
        "print(mySum(10, 20))\n",
        ">>>15\n",
        ">>>30\n",
        "\n",
        "packing and unpacking have the same syntax but the usage varies depending on the place used\n",
        "dictionaries vi tarvatha chusko bro\"\"\"\n",
        "\n",
        "\"\"\"formatting of float values goes as:\n",
        "(\"%f\"% value), makes the number a decimal an adds a coupla 0s to the end of the decimal\n",
        "(\"%.1f\"% value), rounds off the value to one decimal place\n",
        "similarly (\"%.2f\"% value), rounds off the number to 2 decimal places as required here in the problem\n",
        "we can similarly use the d formatter in python which returns a whole number from a decimal number, no rounding involved\"\"\"\n",
        "\n",
        "n = int(input())\n",
        "marks = {}     #initiating an empty dictionary\n",
        "for i in range(n):\n",
        "   name, *line = input().split()     #* is used to grab additional returns from the split() statement (unpacking operator)\n",
        "   scores = list(map(float, line))\n",
        "   marks[name] = scores     #this is how you insert key-value pairs into a predefined dictionary\n",
        "query_name = input()\n",
        "l1 = list(marks[query_name])     #this is fetching values of respective dictinonary's key and listing them into \"l1\"\n",
        "addition = sum(l1)\n",
        "result = addition/len(l1)\n",
        "print('%.2f'% result)     #(% is the modulo op., & req to separate \"kavalsina stuff\" from \"actual value\")(syntax given above)"
      ],
      "metadata": {
        "id": "mgaaTJmTINpv",
        "colab": {
          "base_uri": "https://localhost:8080/"
        },
        "outputId": "5b9a0a31-c2a7-4e08-9601-8bc8c282c2bb"
      },
      "execution_count": null,
      "outputs": [
        {
          "output_type": "stream",
          "name": "stdout",
          "text": [
            "1\n",
            "shravya 173 102 234\n",
            "shravya\n",
            "169.67\n"
          ]
        }
      ]
    },
    {
      "cell_type": "code",
      "source": [
        "\"\"\"Given an integer,n ,and n space-separated integers as input, create a tuple,t , of those n integers.\n",
        "Then compute and print the result of hash().\n",
        "Note: hash() is one of the functions in the __builtins__ module, so it need not be imported.\"\"\"\n",
        "\n",
        "n = int(input())\n",
        "int_list = [int(i) for i in input().split()]     #this is a really cool way to make a for loop in a single line\n",
        "t = tuple(int_list)\n",
        "print(hash(t))"
      ],
      "metadata": {
        "colab": {
          "base_uri": "https://localhost:8080/"
        },
        "id": "gSyllUBHa61_",
        "outputId": "4c0e24a7-4793-49d4-bb04-aa1db0c0af71"
      },
      "execution_count": null,
      "outputs": [
        {
          "output_type": "stream",
          "name": "stdout",
          "text": [
            "3\n",
            "1 2 490\n",
            "-2600959115667476840\n"
          ]
        }
      ]
    },
    {
      "cell_type": "code",
      "source": [
        "\"\"\"You are given a string and your task is to swap cases.\n",
        "In other words, convert all lowercase letters to uppercase letters and vice versa.\"\"\"\n",
        "\n",
        "def swap_case(s):\n",
        "    return s.swapcase()\n",
        "s = input()\n",
        "result = swap_case(s)\n",
        "print(result)\n",
        "\n",
        "#this one uses if-else statements\n",
        "\n",
        "def swap_case(s):\n",
        "    SwAp = ''\n",
        "    for char in s:\n",
        "        if char.upper() != char:\n",
        "            SwAp += char.upper()\n",
        "        elif char.lower() != char:\n",
        "            SwAp += char.lower()\n",
        "        else:\n",
        "            SwAp += char\n",
        "    return SwAp\n",
        "s = input()\n",
        "result = swap_case(s)\n",
        "print(result)\n",
        "\n",
        "#this is also if-else but in a koncham different way\n",
        "\n",
        "def swap_case(s):\n",
        "    ans = list(s)\n",
        "    for i in range(len(ans)):\n",
        "        if ans[i].islower(): ans[i] = ans[i].upper()\n",
        "        elif ans[i].isupper(): ans[i] = ans[i].lower()\n",
        "    return \"\".join(ans)\n",
        "s = input()\n",
        "result = swap_case(s)\n",
        "print(result)"
      ],
      "metadata": {
        "colab": {
          "base_uri": "https://localhost:8080/"
        },
        "id": "7q6z3uwVc3Uv",
        "outputId": "ff633ee9-9639-41a9-b53b-7bf1784d5499"
      },
      "execution_count": null,
      "outputs": [
        {
          "output_type": "stream",
          "name": "stdout",
          "text": [
            "yeahHH\n",
            "YEAHhh\n",
            "YEAhh\n",
            "yeaHH\n"
          ]
        }
      ]
    },
    {
      "cell_type": "code",
      "source": [
        "\"\"\"Given an integer, n, perform the following conditional actions:\n",
        "If n is odd, print Weird\n",
        "If n is even and in the inclusive range of 2 to 5, print Not Weird\n",
        "If n is even and in the inclusive range of 6 to 20, print Weird\n",
        "If n is even and greater than 20, print Not Weird\"\"\"\n",
        "\n",
        "n = int(input())     #your input is an integer so specify int function before input function\n",
        "if n%2!=0:     #mod(%) operator gives the remainder, if remainder w 2 is not \"0\", it's odd\n",
        "     print(\"Weird\")\n",
        "elif n%2==0 and 2<=n<=5:\n",
        "     print(\"Not Weird\")\n",
        "elif n%2==0 and 6<=n<=20:\n",
        "    print(\"Weird\")\n",
        "elif n%2==0 and n>20:\n",
        "    print(\"Not Weird\")\n",
        "#we don't HAVE to end an if-elif-else ladder with an else. . ."
      ],
      "metadata": {
        "colab": {
          "base_uri": "https://localhost:8080/"
        },
        "id": "rnNBR6-Zinfg",
        "outputId": "c02a0320-8e95-474e-c8f7-8540d6c8d2f0"
      },
      "execution_count": null,
      "outputs": [
        {
          "output_type": "stream",
          "name": "stdout",
          "text": [
            "11\n",
            "Weird\n"
          ]
        }
      ]
    },
    {
      "cell_type": "code",
      "source": [
        "\"\"\"You are given the firstname and lastname of a person on two different lines.\n",
        "Your task is to read them and print the following:\n",
        "\"Hello firstname lastname! You just delved into python\" \"\"\"\n",
        "\n",
        "def print_full_name(first, last):\n",
        "    print(f\"Hello {first} {last}! You just delved into python.\")\n",
        "first_name = input()\n",
        "last_name = input()\n",
        "print_full_name(first_name, last_name)"
      ],
      "metadata": {
        "colab": {
          "base_uri": "https://localhost:8080/"
        },
        "id": "Db06QTrKf8Zz",
        "outputId": "9bcb7ec4-34f9-4d28-f590-56d63a1f0976"
      },
      "execution_count": null,
      "outputs": [
        {
          "output_type": "stream",
          "name": "stdout",
          "text": [
            "Shravya\n",
            "Jallepally\n",
            "Hello Shravya Jallepally! You just delved into python.\n"
          ]
        }
      ]
    },
    {
      "cell_type": "code",
      "source": [
        "'''There is an array of n integers. There are also 2 disjoint sets, A and B, each containing m integers. You like all the integers in set A and dislike all the\n",
        "integers in set B. Your initial happiness is 0. For each integer in the array, if i belongs to A, you add 1 to your happiness. If i belongs to B, you add -1 to\n",
        "your happiness. Otherwise, your happiness does not change. Output your final happiness at the end.\n",
        "Note: Since A and B are sets, they have no repeated elements. However, the array might contain duplicate elements.'''\n",
        "\n",
        "'''we use the concept of list comprehensions and split to solve this problem'''\n",
        "\n",
        "'''a, b, c = map(int, input().split())     this is a nice way to read and assign space separated inputs as well'''\n",
        "\n",
        "n, m =input().split()\n",
        "happi=0\n",
        "elem=(input())\n",
        "list0=[int(x) for x in elem.split()]\n",
        "list1=(input())\n",
        "a=[int(x) for x in list1.split()]\n",
        "list2=(input())\n",
        "b=[int(x) for x in list2.split()]\n",
        "for i in range(len(list0)):\n",
        "    if i in a:\n",
        "        happi+=1\n",
        "    elif i in b:\n",
        "        happi-=1\n",
        "    else:\n",
        "        happi+=0\n",
        "print(happi)\n",
        "\n",
        "#this is another similar method\n",
        "if __name__ == \"__main__\":\n",
        "    happiness = 0\n",
        "    n, m = map(int, input().strip().split(' '))\n",
        "    arr = list(map(int, input().strip().split(' ')))\n",
        "\n",
        "    good = set(map(int, input().strip().split(' ')))\n",
        "    bad = set(map(int, input().strip().split(' ')))\n",
        "\n",
        "    for i in arr:\n",
        "        if i in good:\n",
        "            happiness += 1\n",
        "        elif i in bad:\n",
        "            happiness -= 1\n",
        "    print(happiness)"
      ],
      "metadata": {
        "id": "pMih0da08RT1"
      },
      "execution_count": null,
      "outputs": []
    },
    {
      "cell_type": "code",
      "source": [
        "\"\"\"You are given a string N.\n",
        "Your task is to verify that N is a floating point number.\n",
        "In this task, a valid float number must satisfy all of the following requirements:\n",
        "Number can start with +, - or . symbol.\n",
        "Number must contain at least 1 decimal value.\n",
        "Number must have exactly one . symbol.\n",
        "Number must not give any exceptions when converted using float(N).\"\"\"\n",
        "\n",
        "\"\"\"regular expressions (RegEx) are a sequence of characters used to form a search pattern.\"\"\"\n",
        "\n",
        "from re import match, compile\n",
        "pattern = compile('^[-+]?[0-9]*\\.[0-9]+$')\n",
        "for _ in range(int(input())):\n",
        "    print(bool(pattern.match(input())))\n"
      ],
      "metadata": {
        "id": "6rhbHGwUhNAT"
      },
      "execution_count": null,
      "outputs": []
    },
    {
      "cell_type": "code",
      "source": [],
      "metadata": {
        "id": "SaJxATvAAwBx"
      },
      "execution_count": null,
      "outputs": []
    }
  ]
}